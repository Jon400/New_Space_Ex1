{
 "cells": [
  {
   "cell_type": "markdown",
   "id": "b6d421e6",
   "metadata": {},
   "source": [
    "# Stars detection"
   ]
  },
  {
   "cell_type": "code",
   "execution_count": 54,
   "id": "790a6439",
   "metadata": {},
   "outputs": [
    {
     "name": "stdout",
     "output_type": "stream",
     "text": [
      "[[ 59.   65.    1.6]\n",
      " [194.  170.    1.6]\n",
      " [ 27.  117.    1.6]\n",
      " [241.  182.    1.6]\n",
      " [286.  242.    1.6]\n",
      " [ 96.  177.    1. ]]\n"
     ]
    }
   ],
   "source": [
    "import numpy as np\n",
    "from skimage.feature import blob_dog\n",
    "import cv2\n",
    "img_name = \"Boaz stars 1.png\"\n",
    "data = cv2.imread(img_name, cv2.IMREAD_GRAYSCALE)\n",
    "tbl = blob_dog(data, threshold=0.1,overlap=1)\n",
    "#tbl['peak_value'].info.format = '%.8g'  # for consistent table output\n",
    "print(tbl[:10])  # print only the first 10 peaks"
   ]
  },
  {
   "cell_type": "markdown",
   "id": "0f058b48",
   "metadata": {},
   "source": [
    "# Stars Map Visualtization"
   ]
  },
  {
   "cell_type": "code",
   "execution_count": 14,
   "id": "9651cf71",
   "metadata": {},
   "outputs": [
    {
     "ename": "NameError",
     "evalue": "name 'img_name' is not defined",
     "output_type": "error",
     "traceback": [
      "\u001B[1;31m---------------------------------------------------------------------------\u001B[0m",
      "\u001B[1;31mNameError\u001B[0m                                 Traceback (most recent call last)",
      "Cell \u001B[1;32mIn[14], line 6\u001B[0m\n\u001B[0;32m      4\u001B[0m \u001B[38;5;28;01mfrom\u001B[39;00m \u001B[38;5;21;01mastropy\u001B[39;00m\u001B[38;5;21;01m.\u001B[39;00m\u001B[38;5;21;01mvisualization\u001B[39;00m \u001B[38;5;28;01mimport\u001B[39;00m simple_norm\n\u001B[0;32m      5\u001B[0m \u001B[38;5;28;01mfrom\u001B[39;00m \u001B[38;5;21;01mastropy\u001B[39;00m\u001B[38;5;21;01m.\u001B[39;00m\u001B[38;5;21;01mvisualization\u001B[39;00m\u001B[38;5;21;01m.\u001B[39;00m\u001B[38;5;21;01mmpl_normalize\u001B[39;00m \u001B[38;5;28;01mimport\u001B[39;00m ImageNormalize\n\u001B[1;32m----> 6\u001B[0m data \u001B[38;5;241m=\u001B[39m cv2\u001B[38;5;241m.\u001B[39mimread(\u001B[43mimg_name\u001B[49m)\n\u001B[0;32m      7\u001B[0m \u001B[38;5;28;01mfrom\u001B[39;00m \u001B[38;5;21;01mphotutils\u001B[39;00m\u001B[38;5;21;01m.\u001B[39;00m\u001B[38;5;21;01maperture\u001B[39;00m \u001B[38;5;28;01mimport\u001B[39;00m CircularAperture\n\u001B[0;32m      8\u001B[0m positions \u001B[38;5;241m=\u001B[39m np\u001B[38;5;241m.\u001B[39mtranspose((tbl[:,\u001B[38;5;241m1\u001B[39m], tbl[:, \u001B[38;5;241m0\u001B[39m]))\n",
      "\u001B[1;31mNameError\u001B[0m: name 'img_name' is not defined"
     ]
    }
   ],
   "source": [
    "import numpy as np\n",
    "import cv2\n",
    "import matplotlib.pyplot as plt\n",
    "from astropy.visualization import simple_norm\n",
    "from astropy.visualization.mpl_normalize import ImageNormalize\n",
    "data = cv2.imread(img_name)\n",
    "from photutils.aperture import CircularAperture\n",
    "positions = np.transpose((tbl[:,1], tbl[:, 0]))\n",
    "apertures = CircularAperture(positions, r=5.0)\n",
    "norm = simple_norm(data, 'sqrt', percent=99.9)\n",
    "plt.figure(figsize = (7 * (data.shape[1]/data.shape[0]), 7 * (data.shape[0]/data.shape[1])))\n",
    "plt.imshow(cv2.cvtColor(data, cv2.COLOR_BGR2RGB), origin='lower', norm=norm,\n",
    "           interpolation='nearest')\n",
    "apertures.plot(color='#0547f9', lw=1.5)\n",
    "plt.xlim(0, data.shape[1] - 1)\n",
    "plt.ylim(0, data.shape[0] - 1)"
   ]
  },
  {
   "cell_type": "markdown",
   "id": "60138fe4",
   "metadata": {},
   "source": [
    "# Stars Matching"
   ]
  },
  {
   "cell_type": "code",
   "execution_count": null,
   "id": "bd8fcf99",
   "metadata": {},
   "outputs": [],
   "source": [
    "import cv2\n",
    "lst[:]\n",
    "plt.imshow(img3),plt.show()img3 = cv2.drawMatches(img1,kp1,img2,kp2,matches[:10],None,flags=cv.DrawMatchesFlags_NOT_DRAW_SINGLE_POINTS)"
   ]
  },
  {
   "cell_type": "code",
   "execution_count": 46,
   "id": "4f69d9c3",
   "metadata": {
    "scrolled": true
   },
   "outputs": [
    {
     "data": {
      "text/plain": [
       "array([[ 27., 117.],\n",
       "       [194., 170.],\n",
       "       [ 59.,  65.],\n",
       "       [ 59.,  65.],\n",
       "       [241., 182.],\n",
       "       [194., 170.],\n",
       "       [ 59.,  65.],\n",
       "       [286., 242.],\n",
       "       [194., 170.],\n",
       "       [ 96., 177.],\n",
       "       [194., 170.],\n",
       "       [ 59.,  65.],\n",
       "       [ 27., 117.],\n",
       "       [241., 182.],\n",
       "       [ 59.,  65.],\n",
       "       [ 27., 117.],\n",
       "       [286., 242.],\n",
       "       [ 59.,  65.],\n",
       "       [ 27., 117.],\n",
       "       [ 59.,  65.],\n",
       "       [ 96., 177.],\n",
       "       [ 59.,  65.],\n",
       "       [241., 182.],\n",
       "       [286., 242.],\n",
       "       [ 96., 177.],\n",
       "       [241., 182.],\n",
       "       [ 59.,  65.],\n",
       "       [ 96., 177.],\n",
       "       [286., 242.],\n",
       "       [ 59.,  65.],\n",
       "       [ 27., 117.],\n",
       "       [241., 182.],\n",
       "       [194., 170.],\n",
       "       [ 27., 117.],\n",
       "       [286., 242.],\n",
       "       [194., 170.],\n",
       "       [194., 170.],\n",
       "       [ 27., 117.],\n",
       "       [ 96., 177.],\n",
       "       [241., 182.],\n",
       "       [194., 170.],\n",
       "       [286., 242.],\n",
       "       [ 96., 177.],\n",
       "       [241., 182.],\n",
       "       [194., 170.],\n",
       "       [ 96., 177.],\n",
       "       [286., 242.],\n",
       "       [194., 170.],\n",
       "       [ 27., 117.],\n",
       "       [241., 182.],\n",
       "       [286., 242.],\n",
       "       [241., 182.],\n",
       "       [ 27., 117.],\n",
       "       [ 96., 177.],\n",
       "       [286., 242.],\n",
       "       [ 27., 117.],\n",
       "       [ 96., 177.],\n",
       "       [ 96., 177.],\n",
       "       [241., 182.],\n",
       "       [286., 242.]])"
      ]
     },
     "execution_count": 46,
     "metadata": {},
     "output_type": "execute_result"
    }
   ],
   "source": [
    "import numpy as np\n",
    "from skimage.feature import blob_dog\n",
    "import cv2\n",
    "from itertools import combinations\n",
    "\n",
    "img1 = cv2.imread(\"Boaz stars 1.png\", cv2.IMREAD_GRAYSCALE)\n",
    "img2 = cv2.imread(\"Boaz stars 2.png\", cv2.IMREAD_GRAYSCALE)\n",
    "\n",
    "tbl1 = blob_dog(img1, threshold=0.1,overlap=1)\n",
    "positions1 = tuple(map(tuple, tbl1[:,[0,1]]))\n",
    "tbl2 = blob_dog(img2, threshold=0.1,overlap=1)\n",
    "positions2 = tuple(map(tuple, tbl2[:,[0,1]]))\n",
    "lst = []\n",
    "\n",
    "for p1, p2, p3 in combinations(positions1, 3):\n",
    "    dp1 = np.arccos(np.dot(p2, p3) / (np.linalg.norm(p2) * np.linalg.norm(p3)))\n",
    "    dp2 = np.arccos(np.dot(p1, p3) / (np.linalg.norm(p1) * np.linalg.norm(p3)))\n",
    "    dp3 = np.arccos(np.dot(p2, p1) / (np.linalg.norm(p2) * np.linalg.norm(p1)))\n",
    "    tp = np.sort((dp1,dp2, dp3))\n",
    "    max_rmse = -1\n",
    "    best_match = None\n",
    "    for s1, s2, s3 in combinations(positions2, 3):\n",
    "        ds1 = np.arccos(np.dot(s2, s3) / (np.linalg.norm(s2) * np.linalg.norm(s3)))\n",
    "        ds2 = np.arccos(np.dot(s1, s3) / (np.linalg.norm(s1) * np.linalg.norm(s3)))\n",
    "        ds3 = np.arccos(np.dot(s2, s1) / (np.linalg.norm(s2) * np.linalg.norm(s1)))\n",
    "        ts = np.sort((ds1,ds2, ds3))\n",
    "        candidate_match = np.argsort((ds1,ds2, ds3))\n",
    "        tmp_rmse = np.sqrt(((tp - ts) ** 2).mean())\n",
    "        if max_rmse == -1 or tmp_rmse > max_rmse:\n",
    "            max_rmse = tmp_rmse\n",
    "            best_match = ((s1, s2, s3)[candidate_match[0]],(s1, s2, s3)[candidate_match[1]], (s1, s2, s3)[candidate_match[2]])\n",
    "    candidate_match = np.argsort((dp1,dp2, dp3))\n",
    "    order = ((p1, p2, p3)[candidate_match[0]],(p1, p2, p3)[candidate_match[1]], (p1, p2, p3)[candidate_match[2]])\n",
    "    lst.append([order[0], best_match[0]])\n",
    "    lst.append([order[1], best_match[1]])\n",
    "    lst.append([order[2], best_match[2]])\n",
    "    \n",
    "lst = np.array(lst)\n",
    "lst[:,0]\n",
    "    "
   ]
  },
  {
   "cell_type": "code",
   "execution_count": 48,
   "id": "8a97da1b",
   "metadata": {},
   "outputs": [
    {
     "ename": "error",
     "evalue": "OpenCV(4.7.0) :-1: error: (-5:Bad argument) in function 'drawMatches'\n> Overload resolution failed:\n>  - drawMatches() missing required argument 'matches1to2' (pos 5)\n>  - drawMatches() missing required argument 'matches1to2' (pos 5)\n>  - drawMatches() missing required argument 'matches1to2' (pos 5)\n>  - drawMatches() missing required argument 'matches1to2' (pos 5)\n",
     "output_type": "error",
     "traceback": [
      "\u001B[1;31m---------------------------------------------------------------------------\u001B[0m",
      "\u001B[1;31merror\u001B[0m                                     Traceback (most recent call last)",
      "Cell \u001B[1;32mIn[48], line 4\u001B[0m\n\u001B[0;32m      1\u001B[0m \u001B[38;5;28;01mimport\u001B[39;00m \u001B[38;5;21;01mnumpy\u001B[39;00m \u001B[38;5;28;01mas\u001B[39;00m \u001B[38;5;21;01mnp\u001B[39;00m\n\u001B[0;32m      2\u001B[0m \u001B[38;5;28;01mimport\u001B[39;00m \u001B[38;5;21;01mcv2\u001B[39;00m\n\u001B[1;32m----> 4\u001B[0m \u001B[43mcv2\u001B[49m\u001B[38;5;241;43m.\u001B[39;49m\u001B[43mdrawMatches\u001B[49m\u001B[43m(\u001B[49m\u001B[43mimg1\u001B[49m\u001B[43m,\u001B[49m\u001B[43m \u001B[49m\u001B[43mlst\u001B[49m\u001B[43m[\u001B[49m\u001B[43m:\u001B[49m\u001B[43m,\u001B[49m\u001B[38;5;241;43m0\u001B[39;49m\u001B[43m]\u001B[49m\u001B[43m,\u001B[49m\u001B[43m \u001B[49m\u001B[43mimg2\u001B[49m\u001B[43m,\u001B[49m\u001B[43m \u001B[49m\u001B[43mlst\u001B[49m\u001B[43m[\u001B[49m\u001B[43m:\u001B[49m\u001B[43m,\u001B[49m\u001B[38;5;241;43m0\u001B[39;49m\u001B[43m]\u001B[49m\u001B[43m)\u001B[49m\n",
      "\u001B[1;31merror\u001B[0m: OpenCV(4.7.0) :-1: error: (-5:Bad argument) in function 'drawMatches'\n> Overload resolution failed:\n>  - drawMatches() missing required argument 'matches1to2' (pos 5)\n>  - drawMatches() missing required argument 'matches1to2' (pos 5)\n>  - drawMatches() missing required argument 'matches1to2' (pos 5)\n>  - drawMatches() missing required argument 'matches1to2' (pos 5)\n"
     ]
    }
   ],
   "source": [
    "import numpy as np\n",
    "import cv2\n",
    "\n",
    "cv2.drawMatches(img1, lst[:,0], img2, lst[:,0])"
   ]
  },
  {
   "cell_type": "code",
   "execution_count": 72,
   "id": "2f8f71c2",
   "metadata": {},
   "outputs": [
    {
     "name": "stdout",
     "output_type": "stream",
     "text": [
      "((177.0, 310.0), (211.0, 328.0), (240.0, 384.0))\n"
     ]
    },
    {
     "ename": "ValueError",
     "evalue": "Cannot parse first argument data \"[ 59. 194.  27. 241. 286.  96.] pix\" for attribute ra",
     "output_type": "error",
     "traceback": [
      "\u001B[1;31m---------------------------------------------------------------------------\u001B[0m",
      "\u001B[1;31mUnitConversionError\u001B[0m                       Traceback (most recent call last)",
      "File \u001B[1;32m~\\PycharmProjects\\New_Space_Ex1\\venv\\lib\\site-packages\\astropy\\coordinates\\sky_coordinate_parsers.py:614\u001B[0m, in \u001B[0;36m_parse_coordinate_arg\u001B[1;34m(coords, frame, units, init_kwargs)\u001B[0m\n\u001B[0;32m    611\u001B[0m     \u001B[38;5;28;01mfor\u001B[39;00m frame_attr_name, repr_attr_class, value, unit \u001B[38;5;129;01min\u001B[39;00m \u001B[38;5;28mzip\u001B[39m(\n\u001B[0;32m    612\u001B[0m         frame_attr_names, repr_attr_classes, values, units\n\u001B[0;32m    613\u001B[0m     ):\n\u001B[1;32m--> 614\u001B[0m         components[frame_attr_name] \u001B[38;5;241m=\u001B[39m \u001B[43mrepr_attr_class\u001B[49m\u001B[43m(\u001B[49m\u001B[43mvalue\u001B[49m\u001B[43m,\u001B[49m\u001B[43m \u001B[49m\u001B[43munit\u001B[49m\u001B[38;5;241;43m=\u001B[39;49m\u001B[43munit\u001B[49m\u001B[43m,\u001B[49m\u001B[43m \u001B[49m\u001B[43mcopy\u001B[49m\u001B[38;5;241;43m=\u001B[39;49m\u001B[38;5;28;43;01mFalse\u001B[39;49;00m\u001B[43m)\u001B[49m\n\u001B[0;32m    615\u001B[0m \u001B[38;5;28;01mexcept\u001B[39;00m \u001B[38;5;167;01mException\u001B[39;00m \u001B[38;5;28;01mas\u001B[39;00m err:\n",
      "File \u001B[1;32m~\\PycharmProjects\\New_Space_Ex1\\venv\\lib\\site-packages\\astropy\\coordinates\\angles.py:655\u001B[0m, in \u001B[0;36mLongitude.__new__\u001B[1;34m(cls, angle, unit, wrap_angle, **kwargs)\u001B[0m\n\u001B[0;32m    652\u001B[0m     \u001B[38;5;28;01mraise\u001B[39;00m \u001B[38;5;167;01mTypeError\u001B[39;00m(\n\u001B[0;32m    653\u001B[0m         \u001B[38;5;124m\"\u001B[39m\u001B[38;5;124mA Longitude angle cannot be created from a Latitude angle.\u001B[39m\u001B[38;5;124m\"\u001B[39m\n\u001B[0;32m    654\u001B[0m     )\n\u001B[1;32m--> 655\u001B[0m \u001B[38;5;28mself\u001B[39m \u001B[38;5;241m=\u001B[39m \u001B[38;5;28msuper\u001B[39m()\u001B[38;5;241m.\u001B[39m\u001B[38;5;21m__new__\u001B[39m(\u001B[38;5;28mcls\u001B[39m, angle, unit\u001B[38;5;241m=\u001B[39munit, \u001B[38;5;241m*\u001B[39m\u001B[38;5;241m*\u001B[39mkwargs)\n\u001B[0;32m    656\u001B[0m \u001B[38;5;28;01mif\u001B[39;00m wrap_angle \u001B[38;5;129;01mis\u001B[39;00m \u001B[38;5;28;01mNone\u001B[39;00m:\n",
      "File \u001B[1;32m~\\PycharmProjects\\New_Space_Ex1\\venv\\lib\\site-packages\\astropy\\coordinates\\angles.py:142\u001B[0m, in \u001B[0;36mAngle.__new__\u001B[1;34m(cls, angle, unit, dtype, copy, **kwargs)\u001B[0m\n\u001B[0;32m    140\u001B[0m         angle \u001B[38;5;241m=\u001B[39m [Angle(x, unit, copy\u001B[38;5;241m=\u001B[39m\u001B[38;5;28;01mFalse\u001B[39;00m) \u001B[38;5;28;01mfor\u001B[39;00m x \u001B[38;5;129;01min\u001B[39;00m angle]\n\u001B[1;32m--> 142\u001B[0m \u001B[38;5;28;01mreturn\u001B[39;00m \u001B[38;5;28msuper\u001B[39m()\u001B[38;5;241m.\u001B[39m\u001B[38;5;21m__new__\u001B[39m(\u001B[38;5;28mcls\u001B[39m, angle, unit, dtype\u001B[38;5;241m=\u001B[39mdtype, copy\u001B[38;5;241m=\u001B[39mcopy, \u001B[38;5;241m*\u001B[39m\u001B[38;5;241m*\u001B[39mkwargs)\n",
      "File \u001B[1;32m~\\PycharmProjects\\New_Space_Ex1\\venv\\lib\\site-packages\\astropy\\units\\quantity.py:456\u001B[0m, in \u001B[0;36mQuantity.__new__\u001B[1;34m(cls, value, unit, dtype, copy, order, subok, ndmin)\u001B[0m\n\u001B[0;32m    455\u001B[0m \u001B[38;5;28;01mif\u001B[39;00m unit \u001B[38;5;129;01mis\u001B[39;00m \u001B[38;5;129;01mnot\u001B[39;00m \u001B[38;5;28;01mNone\u001B[39;00m \u001B[38;5;129;01mand\u001B[39;00m unit \u001B[38;5;129;01mis\u001B[39;00m \u001B[38;5;129;01mnot\u001B[39;00m value\u001B[38;5;241m.\u001B[39munit:\n\u001B[1;32m--> 456\u001B[0m     value \u001B[38;5;241m=\u001B[39m \u001B[43mvalue\u001B[49m\u001B[38;5;241;43m.\u001B[39;49m\u001B[43mto\u001B[49m\u001B[43m(\u001B[49m\u001B[43munit\u001B[49m\u001B[43m)\u001B[49m\n\u001B[0;32m    457\u001B[0m     \u001B[38;5;66;03m# the above already makes a copy (with float dtype)\u001B[39;00m\n",
      "File \u001B[1;32m~\\PycharmProjects\\New_Space_Ex1\\venv\\lib\\site-packages\\astropy\\units\\quantity.py:915\u001B[0m, in \u001B[0;36mQuantity.to\u001B[1;34m(self, unit, equivalencies, copy)\u001B[0m\n\u001B[0;32m    912\u001B[0m \u001B[38;5;28;01mif\u001B[39;00m copy:\n\u001B[0;32m    913\u001B[0m     \u001B[38;5;66;03m# Avoid using to_value to ensure that we make a copy. We also\u001B[39;00m\n\u001B[0;32m    914\u001B[0m     \u001B[38;5;66;03m# don't want to slow down this method (esp. the scalar case).\u001B[39;00m\n\u001B[1;32m--> 915\u001B[0m     value \u001B[38;5;241m=\u001B[39m \u001B[38;5;28;43mself\u001B[39;49m\u001B[38;5;241;43m.\u001B[39;49m\u001B[43m_to_value\u001B[49m\u001B[43m(\u001B[49m\u001B[43munit\u001B[49m\u001B[43m,\u001B[49m\u001B[43m \u001B[49m\u001B[43mequivalencies\u001B[49m\u001B[43m)\u001B[49m\n\u001B[0;32m    916\u001B[0m \u001B[38;5;28;01melse\u001B[39;00m:\n\u001B[0;32m    917\u001B[0m     \u001B[38;5;66;03m# to_value only copies if necessary\u001B[39;00m\n",
      "File \u001B[1;32m~\\PycharmProjects\\New_Space_Ex1\\venv\\lib\\site-packages\\astropy\\units\\quantity.py:868\u001B[0m, in \u001B[0;36mQuantity._to_value\u001B[1;34m(self, unit, equivalencies)\u001B[0m\n\u001B[0;32m    866\u001B[0m \u001B[38;5;28;01mif\u001B[39;00m \u001B[38;5;129;01mnot\u001B[39;00m \u001B[38;5;28mself\u001B[39m\u001B[38;5;241m.\u001B[39mdtype\u001B[38;5;241m.\u001B[39mnames \u001B[38;5;129;01mor\u001B[39;00m \u001B[38;5;28misinstance\u001B[39m(\u001B[38;5;28mself\u001B[39m\u001B[38;5;241m.\u001B[39munit, StructuredUnit):\n\u001B[0;32m    867\u001B[0m     \u001B[38;5;66;03m# Standard path, let unit to do work.\u001B[39;00m\n\u001B[1;32m--> 868\u001B[0m     \u001B[38;5;28;01mreturn\u001B[39;00m \u001B[38;5;28;43mself\u001B[39;49m\u001B[38;5;241;43m.\u001B[39;49m\u001B[43munit\u001B[49m\u001B[38;5;241;43m.\u001B[39;49m\u001B[43mto\u001B[49m\u001B[43m(\u001B[49m\n\u001B[0;32m    869\u001B[0m \u001B[43m        \u001B[49m\u001B[43munit\u001B[49m\u001B[43m,\u001B[49m\u001B[43m \u001B[49m\u001B[38;5;28;43mself\u001B[39;49m\u001B[38;5;241;43m.\u001B[39;49m\u001B[43mview\u001B[49m\u001B[43m(\u001B[49m\u001B[43mnp\u001B[49m\u001B[38;5;241;43m.\u001B[39;49m\u001B[43mndarray\u001B[49m\u001B[43m)\u001B[49m\u001B[43m,\u001B[49m\u001B[43m \u001B[49m\u001B[43mequivalencies\u001B[49m\u001B[38;5;241;43m=\u001B[39;49m\u001B[43mequivalencies\u001B[49m\n\u001B[0;32m    870\u001B[0m \u001B[43m    \u001B[49m\u001B[43m)\u001B[49m\n\u001B[0;32m    872\u001B[0m \u001B[38;5;28;01melse\u001B[39;00m:\n\u001B[0;32m    873\u001B[0m     \u001B[38;5;66;03m# The .to() method of a simple unit cannot convert a structured\u001B[39;00m\n\u001B[0;32m    874\u001B[0m     \u001B[38;5;66;03m# dtype, so we work around it, by recursing.\u001B[39;00m\n\u001B[0;32m    875\u001B[0m     \u001B[38;5;66;03m# TODO: deprecate this?\u001B[39;00m\n\u001B[0;32m    876\u001B[0m     \u001B[38;5;66;03m# Convert simple to Structured on initialization?\u001B[39;00m\n",
      "File \u001B[1;32m~\\PycharmProjects\\New_Space_Ex1\\venv\\lib\\site-packages\\astropy\\units\\core.py:1165\u001B[0m, in \u001B[0;36mUnitBase.to\u001B[1;34m(self, other, value, equivalencies)\u001B[0m\n\u001B[0;32m   1164\u001B[0m \u001B[38;5;28;01melse\u001B[39;00m:\n\u001B[1;32m-> 1165\u001B[0m     \u001B[38;5;28;01mreturn\u001B[39;00m \u001B[38;5;28;43mself\u001B[39;49m\u001B[38;5;241;43m.\u001B[39;49m\u001B[43m_get_converter\u001B[49m\u001B[43m(\u001B[49m\u001B[43mUnit\u001B[49m\u001B[43m(\u001B[49m\u001B[43mother\u001B[49m\u001B[43m)\u001B[49m\u001B[43m,\u001B[49m\u001B[43m \u001B[49m\u001B[43mequivalencies\u001B[49m\u001B[43m)\u001B[49m(value)\n",
      "File \u001B[1;32m~\\PycharmProjects\\New_Space_Ex1\\venv\\lib\\site-packages\\astropy\\units\\core.py:1094\u001B[0m, in \u001B[0;36mUnitBase._get_converter\u001B[1;34m(self, other, equivalencies)\u001B[0m\n\u001B[0;32m   1092\u001B[0m                 \u001B[38;5;28;01mreturn\u001B[39;00m \u001B[38;5;28;01mlambda\u001B[39;00m v: b(converter(v))\n\u001B[1;32m-> 1094\u001B[0m \u001B[38;5;28;01mraise\u001B[39;00m exc\n",
      "File \u001B[1;32m~\\PycharmProjects\\New_Space_Ex1\\venv\\lib\\site-packages\\astropy\\units\\core.py:1077\u001B[0m, in \u001B[0;36mUnitBase._get_converter\u001B[1;34m(self, other, equivalencies)\u001B[0m\n\u001B[0;32m   1076\u001B[0m \u001B[38;5;28;01mtry\u001B[39;00m:\n\u001B[1;32m-> 1077\u001B[0m     \u001B[38;5;28;01mreturn\u001B[39;00m \u001B[38;5;28;43mself\u001B[39;49m\u001B[38;5;241;43m.\u001B[39;49m\u001B[43m_apply_equivalencies\u001B[49m\u001B[43m(\u001B[49m\n\u001B[0;32m   1078\u001B[0m \u001B[43m        \u001B[49m\u001B[38;5;28;43mself\u001B[39;49m\u001B[43m,\u001B[49m\u001B[43m \u001B[49m\u001B[43mother\u001B[49m\u001B[43m,\u001B[49m\u001B[43m \u001B[49m\u001B[38;5;28;43mself\u001B[39;49m\u001B[38;5;241;43m.\u001B[39;49m\u001B[43m_normalize_equivalencies\u001B[49m\u001B[43m(\u001B[49m\u001B[43mequivalencies\u001B[49m\u001B[43m)\u001B[49m\n\u001B[0;32m   1079\u001B[0m \u001B[43m    \u001B[49m\u001B[43m)\u001B[49m\n\u001B[0;32m   1080\u001B[0m \u001B[38;5;28;01mexcept\u001B[39;00m UnitsError \u001B[38;5;28;01mas\u001B[39;00m exc:\n\u001B[0;32m   1081\u001B[0m     \u001B[38;5;66;03m# Last hope: maybe other knows how to do it?\u001B[39;00m\n\u001B[0;32m   1082\u001B[0m     \u001B[38;5;66;03m# We assume the equivalencies have the unit itself as first item.\u001B[39;00m\n\u001B[0;32m   1083\u001B[0m     \u001B[38;5;66;03m# TODO: maybe better for other to have a `_back_converter` method?\u001B[39;00m\n",
      "File \u001B[1;32m~\\PycharmProjects\\New_Space_Ex1\\venv\\lib\\site-packages\\astropy\\units\\core.py:1054\u001B[0m, in \u001B[0;36mUnitBase._apply_equivalencies\u001B[1;34m(self, unit, other, equivalencies)\u001B[0m\n\u001B[0;32m   1052\u001B[0m other_str \u001B[38;5;241m=\u001B[39m get_err_str(other)\n\u001B[1;32m-> 1054\u001B[0m \u001B[38;5;28;01mraise\u001B[39;00m UnitConversionError(\u001B[38;5;124mf\u001B[39m\u001B[38;5;124m\"\u001B[39m\u001B[38;5;132;01m{\u001B[39;00munit_str\u001B[38;5;132;01m}\u001B[39;00m\u001B[38;5;124m and \u001B[39m\u001B[38;5;132;01m{\u001B[39;00mother_str\u001B[38;5;132;01m}\u001B[39;00m\u001B[38;5;124m are not convertible\u001B[39m\u001B[38;5;124m\"\u001B[39m)\n",
      "\u001B[1;31mUnitConversionError\u001B[0m: 'pix' and 'deg' (angle) are not convertible",
      "\nThe above exception was the direct cause of the following exception:\n",
      "\u001B[1;31mValueError\u001B[0m                                Traceback (most recent call last)",
      "Cell \u001B[1;32mIn[72], line 17\u001B[0m\n\u001B[0;32m     13\u001B[0m positions2 \u001B[38;5;241m=\u001B[39m \u001B[38;5;28mtuple\u001B[39m(\u001B[38;5;28mmap\u001B[39m(\u001B[38;5;28mtuple\u001B[39m, tbl2[:,[\u001B[38;5;241m0\u001B[39m,\u001B[38;5;241m1\u001B[39m]]))\n\u001B[0;32m     14\u001B[0m \u001B[38;5;28mprint\u001B[39m(positions2)\n\u001B[1;32m---> 17\u001B[0m scatalog \u001B[38;5;241m=\u001B[39m \u001B[43mSkyCoord\u001B[49m\u001B[43m(\u001B[49m\u001B[43mpositions1\u001B[49m\u001B[38;5;241;43m*\u001B[39;49m\u001B[43mu\u001B[49m\u001B[38;5;241;43m.\u001B[39;49m\u001B[43mpixel\u001B[49m\u001B[43m,\u001B[49m\u001B[43m \u001B[49m\u001B[43mframe\u001B[49m\u001B[38;5;241;43m=\u001B[39;49m\u001B[38;5;124;43m'\u001B[39;49m\u001B[38;5;124;43mfk5\u001B[39;49m\u001B[38;5;124;43m'\u001B[39;49m\u001B[43m,\u001B[49m\u001B[43m \u001B[49m\u001B[43munit\u001B[49m\u001B[38;5;241;43m=\u001B[39;49m\u001B[43mu\u001B[49m\u001B[38;5;241;43m.\u001B[39;49m\u001B[43mdeg\u001B[49m\u001B[43m)\u001B[49m\n\u001B[0;32m     18\u001B[0m pcatalog \u001B[38;5;241m=\u001B[39m SkyCoord(positions2\u001B[38;5;241m*\u001B[39mu\u001B[38;5;241m.\u001B[39mpixel, frame\u001B[38;5;241m=\u001B[39m\u001B[38;5;124m'\u001B[39m\u001B[38;5;124mfk5\u001B[39m\u001B[38;5;124m'\u001B[39m, unit\u001B[38;5;241m=\u001B[39mu\u001B[38;5;241m.\u001B[39mdeg)\n\u001B[0;32m     20\u001B[0m idx, d2d, d3d \u001B[38;5;241m=\u001B[39m match_coordinates_sky(scatalog, pcatalog, nthneighbor\u001B[38;5;241m=\u001B[39m\u001B[38;5;241m3\u001B[39m)\n",
      "File \u001B[1;32m~\\PycharmProjects\\New_Space_Ex1\\venv\\lib\\site-packages\\astropy\\coordinates\\sky_coordinate.py:339\u001B[0m, in \u001B[0;36mSkyCoord.__init__\u001B[1;34m(self, copy, *args, **kwargs)\u001B[0m\n\u001B[0;32m    335\u001B[0m \u001B[38;5;66;03m# Parse the args and kwargs to assemble a sanitized and validated\u001B[39;00m\n\u001B[0;32m    336\u001B[0m \u001B[38;5;66;03m# kwargs dict for initializing attributes for this object and for\u001B[39;00m\n\u001B[0;32m    337\u001B[0m \u001B[38;5;66;03m# creating the internal self._sky_coord_frame object\u001B[39;00m\n\u001B[0;32m    338\u001B[0m args \u001B[38;5;241m=\u001B[39m \u001B[38;5;28mlist\u001B[39m(args)  \u001B[38;5;66;03m# Make it mutable\u001B[39;00m\n\u001B[1;32m--> 339\u001B[0m skycoord_kwargs, components, info \u001B[38;5;241m=\u001B[39m \u001B[43m_parse_coordinate_data\u001B[49m\u001B[43m(\u001B[49m\n\u001B[0;32m    340\u001B[0m \u001B[43m    \u001B[49m\u001B[43mframe_cls\u001B[49m\u001B[43m(\u001B[49m\u001B[38;5;241;43m*\u001B[39;49m\u001B[38;5;241;43m*\u001B[39;49m\u001B[43mframe_kwargs\u001B[49m\u001B[43m)\u001B[49m\u001B[43m,\u001B[49m\u001B[43m \u001B[49m\u001B[43margs\u001B[49m\u001B[43m,\u001B[49m\u001B[43m \u001B[49m\u001B[43mkwargs\u001B[49m\n\u001B[0;32m    341\u001B[0m \u001B[43m\u001B[49m\u001B[43m)\u001B[49m\n\u001B[0;32m    343\u001B[0m \u001B[38;5;66;03m# In the above two parsing functions, these kwargs were identified\u001B[39;00m\n\u001B[0;32m    344\u001B[0m \u001B[38;5;66;03m# as valid frame attributes for *some* frame, but not the frame that\u001B[39;00m\n\u001B[0;32m    345\u001B[0m \u001B[38;5;66;03m# this SkyCoord will have. We keep these attributes as special\u001B[39;00m\n\u001B[0;32m    346\u001B[0m \u001B[38;5;66;03m# skycoord frame attributes:\u001B[39;00m\n\u001B[0;32m    347\u001B[0m \u001B[38;5;28;01mfor\u001B[39;00m attr \u001B[38;5;129;01min\u001B[39;00m skycoord_kwargs:\n\u001B[0;32m    348\u001B[0m     \u001B[38;5;66;03m# Setting it will also validate it.\u001B[39;00m\n",
      "File \u001B[1;32m~\\PycharmProjects\\New_Space_Ex1\\venv\\lib\\site-packages\\astropy\\coordinates\\sky_coordinate_parsers.py:295\u001B[0m, in \u001B[0;36m_parse_coordinate_data\u001B[1;34m(frame, args, kwargs)\u001B[0m\n\u001B[0;32m    289\u001B[0m \u001B[38;5;28;01mif\u001B[39;00m args:\n\u001B[0;32m    290\u001B[0m     \u001B[38;5;28;01mif\u001B[39;00m \u001B[38;5;28mlen\u001B[39m(args) \u001B[38;5;241m==\u001B[39m \u001B[38;5;241m1\u001B[39m:\n\u001B[0;32m    291\u001B[0m         \u001B[38;5;66;03m# One arg which must be a coordinate.  In this case coord_kwargs\u001B[39;00m\n\u001B[0;32m    292\u001B[0m         \u001B[38;5;66;03m# will contain keys like 'ra', 'dec', 'distance' along with any\u001B[39;00m\n\u001B[0;32m    293\u001B[0m         \u001B[38;5;66;03m# frame attributes like equinox or obstime which were explicitly\u001B[39;00m\n\u001B[0;32m    294\u001B[0m         \u001B[38;5;66;03m# specified in the coordinate object (i.e. non-default).\u001B[39;00m\n\u001B[1;32m--> 295\u001B[0m         _skycoord_kwargs, _components \u001B[38;5;241m=\u001B[39m \u001B[43m_parse_coordinate_arg\u001B[49m\u001B[43m(\u001B[49m\n\u001B[0;32m    296\u001B[0m \u001B[43m            \u001B[49m\u001B[43margs\u001B[49m\u001B[43m[\u001B[49m\u001B[38;5;241;43m0\u001B[39;49m\u001B[43m]\u001B[49m\u001B[43m,\u001B[49m\u001B[43m \u001B[49m\u001B[43mframe\u001B[49m\u001B[43m,\u001B[49m\u001B[43m \u001B[49m\u001B[43munits\u001B[49m\u001B[43m,\u001B[49m\u001B[43m \u001B[49m\u001B[43mkwargs\u001B[49m\n\u001B[0;32m    297\u001B[0m \u001B[43m        \u001B[49m\u001B[43m)\u001B[49m\n\u001B[0;32m    299\u001B[0m         \u001B[38;5;66;03m# Copy other 'info' attr only if it has actually been defined.\u001B[39;00m\n\u001B[0;32m    300\u001B[0m         \u001B[38;5;28;01mif\u001B[39;00m \u001B[38;5;124m\"\u001B[39m\u001B[38;5;124minfo\u001B[39m\u001B[38;5;124m\"\u001B[39m \u001B[38;5;129;01min\u001B[39;00m \u001B[38;5;28mgetattr\u001B[39m(args[\u001B[38;5;241m0\u001B[39m], \u001B[38;5;124m\"\u001B[39m\u001B[38;5;124m__dict__\u001B[39m\u001B[38;5;124m\"\u001B[39m, ()):\n",
      "File \u001B[1;32m~\\PycharmProjects\\New_Space_Ex1\\venv\\lib\\site-packages\\astropy\\coordinates\\sky_coordinate_parsers.py:616\u001B[0m, in \u001B[0;36m_parse_coordinate_arg\u001B[1;34m(coords, frame, units, init_kwargs)\u001B[0m\n\u001B[0;32m    614\u001B[0m         components[frame_attr_name] \u001B[38;5;241m=\u001B[39m repr_attr_class(value, unit\u001B[38;5;241m=\u001B[39munit, copy\u001B[38;5;241m=\u001B[39m\u001B[38;5;28;01mFalse\u001B[39;00m)\n\u001B[0;32m    615\u001B[0m \u001B[38;5;28;01mexcept\u001B[39;00m \u001B[38;5;167;01mException\u001B[39;00m \u001B[38;5;28;01mas\u001B[39;00m err:\n\u001B[1;32m--> 616\u001B[0m     \u001B[38;5;28;01mraise\u001B[39;00m \u001B[38;5;167;01mValueError\u001B[39;00m(\n\u001B[0;32m    617\u001B[0m         \u001B[38;5;124mf\u001B[39m\u001B[38;5;124m'\u001B[39m\u001B[38;5;124mCannot parse first argument data \u001B[39m\u001B[38;5;124m\"\u001B[39m\u001B[38;5;132;01m{\u001B[39;00mvalue\u001B[38;5;132;01m}\u001B[39;00m\u001B[38;5;124m\"\u001B[39m\u001B[38;5;124m for attribute\u001B[39m\u001B[38;5;124m'\u001B[39m\n\u001B[0;32m    618\u001B[0m         \u001B[38;5;124mf\u001B[39m\u001B[38;5;124m\"\u001B[39m\u001B[38;5;124m \u001B[39m\u001B[38;5;132;01m{\u001B[39;00mframe_attr_name\u001B[38;5;132;01m}\u001B[39;00m\u001B[38;5;124m\"\u001B[39m\n\u001B[0;32m    619\u001B[0m     ) \u001B[38;5;28;01mfrom\u001B[39;00m \u001B[38;5;21;01merr\u001B[39;00m\n\u001B[0;32m    620\u001B[0m \u001B[38;5;28;01mreturn\u001B[39;00m skycoord_kwargs, components\n",
      "\u001B[1;31mValueError\u001B[0m: Cannot parse first argument data \"[ 59. 194.  27. 241. 286.  96.] pix\" for attribute ra"
     ]
    }
   ],
   "source": [
    "import numpy as np\n",
    "from astropy.coordinates import SkyCoord, match_coordinates_sky\n",
    "from astropy import units as u\n",
    "from skimage.feature import blob_dog\n",
    "import cv2\n",
    "\n",
    "img1 = cv2.imread(\"Boaz stars 1.png\", cv2.IMREAD_GRAYSCALE)\n",
    "img2 = cv2.imread(\"Boaz stars 2.png\", cv2.IMREAD_GRAYSCALE)\n",
    "\n",
    "tbl1 = blob_dog(img1, threshold=0.1,overlap=1)\n",
    "positions1 = tuple(map(tuple, tbl1[:,[0,1]]))\n",
    "tbl2 = blob_dog(img2, threshold=0.1,overlap=1)\n",
    "positions2 = tuple(map(tuple, tbl2[:,[0,1]]))\n",
    "print(positions2)\n",
    "\n",
    "\n",
    "scatalog = SkyCoord(positions1*u.pixel, frame='fk5', unit=u.deg)\n",
    "pcatalog = SkyCoord(positions2*u.pixel, frame='fk5', unit=u.deg)\n",
    "\n",
    "idx, d2d, d3d = match_coordinates_sky(scatalog, pcatalog, nthneighbor=3)\n",
    "\n",
    "#idx, d2d, d3d = match_coordinates_sky(positions1, positions2, nthneighbor=3)\n",
    "print(scatalog)"
   ]
  },
  {
   "cell_type": "code",
   "execution_count": 47,
   "id": "850d0199",
   "metadata": {},
   "outputs": [
    {
     "ename": "error",
     "evalue": "OpenCV(4.7.0) D:\\a\\opencv-python\\opencv-python\\opencv\\modules\\core\\src\\batch_distance.cpp:275: error: (-215:Assertion failed) type == src2.type() && src1.cols == src2.cols && (type == CV_32F || type == CV_8U) in function 'cv::batchDistance'\n",
     "output_type": "error",
     "traceback": [
      "\u001B[1;31m---------------------------------------------------------------------------\u001B[0m",
      "\u001B[1;31merror\u001B[0m                                     Traceback (most recent call last)",
      "Cell \u001B[1;32mIn[47], line 16\u001B[0m\n\u001B[0;32m     13\u001B[0m positions2 \u001B[38;5;241m=\u001B[39m tbl2[:,[\u001B[38;5;241m0\u001B[39m,\u001B[38;5;241m1\u001B[39m]]\n\u001B[0;32m     15\u001B[0m bf \u001B[38;5;241m=\u001B[39m cv2\u001B[38;5;241m.\u001B[39mBFMatcher()\n\u001B[1;32m---> 16\u001B[0m matches \u001B[38;5;241m=\u001B[39m \u001B[43mbf\u001B[49m\u001B[38;5;241;43m.\u001B[39;49m\u001B[43mknnMatch\u001B[49m\u001B[43m(\u001B[49m\u001B[43mpositions1\u001B[49m\u001B[43m,\u001B[49m\u001B[43mpositions2\u001B[49m\u001B[43m,\u001B[49m\u001B[43mk\u001B[49m\u001B[38;5;241;43m=\u001B[39;49m\u001B[38;5;241;43m3\u001B[39;49m\u001B[43m)\u001B[49m\n",
      "\u001B[1;31merror\u001B[0m: OpenCV(4.7.0) D:\\a\\opencv-python\\opencv-python\\opencv\\modules\\core\\src\\batch_distance.cpp:275: error: (-215:Assertion failed) type == src2.type() && src1.cols == src2.cols && (type == CV_32F || type == CV_8U) in function 'cv::batchDistance'\n"
     ]
    }
   ],
   "source": [
    "import numpy as np\n",
    "from astropy.coordinates import SkyCoord, match_coordinates_sky\n",
    "from astropy import units as u\n",
    "from skimage.feature import blob_dog\n",
    "import cv2\n",
    "\n",
    "img1 = cv2.imread(\"Boaz stars 1.png\", cv2.IMREAD_GRAYSCALE)\n",
    "img2 = cv2.imread(\"Boaz stars 2.png\", cv2.IMREAD_GRAYSCALE)\n",
    "\n",
    "tbl1 = blob_dog(img1, threshold=0.1,overlap=1)\n",
    "positions1 = tbl1[:,[0,1]]\n",
    "tbl2 = blob_dog(img2, threshold=0.1,overlap=1)\n",
    "positions2 = tbl2[:,[0,1]]\n",
    "\n",
    "bf = cv2.BFMatcher()\n",
    "matches = bf.knnMatch(positions1,positions2,k=3)"
   ]
  },
  {
   "cell_type": "code",
   "execution_count": 51,
   "id": "6bc75869",
   "metadata": {},
   "outputs": [
    {
     "name": "stdout",
     "output_type": "stream",
     "text": [
      "[[ 0.  0.  1. ...  1.  0.  0.]\n",
      " [ 1.  2.  2. ...  0.  0.  0.]\n",
      " [ 1.  2.  4. ...  1.  0.  0.]\n",
      " ...\n",
      " [ 2.  2.  0. ...  0.  5. 11.]\n",
      " [ 0.  0.  4. ...  2.  0.  0.]\n",
      " [ 1.  0.  0. ...  2.  2.  1.]]\n"
     ]
    },
    {
     "ename": "error",
     "evalue": "OpenCV(4.7.0) D:\\a\\opencv-python\\opencv-python\\opencv\\modules\\features2d\\src\\matchers.cpp:761: error: (-215:Assertion failed) _queryDescriptors.type() == trainDescType in function 'cv::BFMatcher::knnMatchImpl'\n",
     "output_type": "error",
     "traceback": [
      "\u001B[1;31m---------------------------------------------------------------------------\u001B[0m",
      "\u001B[1;31merror\u001B[0m                                     Traceback (most recent call last)",
      "Cell \u001B[1;32mIn[51], line 14\u001B[0m\n\u001B[0;32m     12\u001B[0m bf \u001B[38;5;241m=\u001B[39m cv\u001B[38;5;241m.\u001B[39mBFMatcher()\n\u001B[0;32m     13\u001B[0m \u001B[38;5;28mprint\u001B[39m(des1)\n\u001B[1;32m---> 14\u001B[0m matches \u001B[38;5;241m=\u001B[39m \u001B[43mbf\u001B[49m\u001B[38;5;241;43m.\u001B[39;49m\u001B[43mknnMatch\u001B[49m\u001B[43m(\u001B[49m\u001B[43mdes1\u001B[49m\u001B[43m,\u001B[49m\u001B[43mdes2\u001B[49m\u001B[43m,\u001B[49m\u001B[43mk\u001B[49m\u001B[38;5;241;43m=\u001B[39;49m\u001B[38;5;241;43m2\u001B[39;49m\u001B[43m)\u001B[49m\n\u001B[0;32m     15\u001B[0m \u001B[38;5;66;03m# Apply ratio test\u001B[39;00m\n\u001B[0;32m     16\u001B[0m good \u001B[38;5;241m=\u001B[39m []\n",
      "\u001B[1;31merror\u001B[0m: OpenCV(4.7.0) D:\\a\\opencv-python\\opencv-python\\opencv\\modules\\features2d\\src\\matchers.cpp:761: error: (-215:Assertion failed) _queryDescriptors.type() == trainDescType in function 'cv::BFMatcher::knnMatchImpl'\n"
     ]
    }
   ],
   "source": [
    "import numpy as np\n",
    "import cv2 as cv\n",
    "import matplotlib.pyplot as plt\n",
    "img1 = cv.imread('Boaz stars 1.png',cv.IMREAD_GRAYSCALE)          # queryImage\n",
    "img2 = cv.imread('Boaz stars 2.png',cv.IMREAD_GRAYSCALE) # trainImage\n",
    "# Initiate SIFT detector\n",
    "sift = cv.SIFT_create()\n",
    "# find the keypoints and descriptors with SIFT\n",
    "kp1, des1 = sift.detectAndCompute(img1,None)\n",
    "kp2, des2 = sift.detectAndCompute(img2,None)\n",
    "# BFMatcher with default params\n",
    "bf = cv.BFMatcher()\n",
    "print(des1)\n",
    "matches = bf.knnMatch(des1,des2,k=2)\n",
    "# Apply ratio test\n",
    "good = []\n",
    "for m,n in matches:\n",
    "    if m.distance < 0.75*n.distance:\n",
    "        good.append([m])\n",
    "# cv.drawMatchesKnn expects list of lists as matches.\n",
    "img3 = cv.drawMatchesKnn(img1,kp1,img2,kp2,good,None,flags=cv.DrawMatchesFlags_NOT_DRAW_SINGLE_POINTS)\n",
    "plt.imshow(img3),plt.show()"
   ]
  },
  {
   "cell_type": "code",
   "execution_count": null,
   "id": "4d1ad509",
   "metadata": {},
   "outputs": [],
   "source": []
  }
 ],
 "metadata": {
  "kernelspec": {
   "display_name": "Python 3 (ipykernel)",
   "language": "python",
   "name": "python3"
  },
  "language_info": {
   "codemirror_mode": {
    "name": "ipython",
    "version": 3
   },
   "file_extension": ".py",
   "mimetype": "text/x-python",
   "name": "python",
   "nbconvert_exporter": "python",
   "pygments_lexer": "ipython3",
   "version": "3.9.13"
  }
 },
 "nbformat": 4,
 "nbformat_minor": 5
}
